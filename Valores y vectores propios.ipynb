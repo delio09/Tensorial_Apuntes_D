{
 "cells": [
  {
   "cell_type": "code",
   "execution_count": 1,
   "id": "5babd93b-303d-4a4a-b68c-9180791fc8ca",
   "metadata": {},
   "outputs": [],
   "source": [
    "from sympy import sin, cos, init_printing, latex, symbols, Matrix, trigsimp,expand,linear_eq_to_matrix, expand_trig, simplify,diff, solve, det\n",
    "# Para imprimir bonito\n",
    "init_printing()\n",
    "from IPython.display import Math                 \n",
    "def imprimir (texto1, variable, texto2=\"\"):\n",
    "    return Math(texto1 +  rf'{latex(variable)}' + texto2)\n"
   ]
  },
  {
   "cell_type": "code",
   "execution_count": 2,
   "id": "7514f163-9120-4783-bc88-832d466bc8ff",
   "metadata": {},
   "outputs": [
    {
     "data": {
      "text/latex": [
       "$\\displaystyle x=\\varepsilon_{xp}$"
      ],
      "text/plain": [
       "<IPython.core.display.Math object>"
      ]
     },
     "execution_count": 2,
     "metadata": {},
     "output_type": "execute_result"
    }
   ],
   "source": [
    "#defino los simbolos para usar en el ejercicio\n",
    "ex, ey, ez, exy, exz, eyz = symbols(\"varepsilon_x, varepsilon_y, varepsilon_z, varepsilon_xy, varepsilon_xz, varepsilon_yz\")\n",
    "alfa, beta, gama, en =symbols(\" alpha, beta, gamma, varepsilon_n\")\n",
    "exp= symbols(\"varepsilon_xp\")\n",
    "imprimir(r\"x=\",exp)"
   ]
  },
  {
   "cell_type": "code",
   "execution_count": 3,
   "id": "78fa72f2-0683-43e8-95df-32600326cf41",
   "metadata": {},
   "outputs": [],
   "source": [
    "epsilon=Matrix([[ex,  exy, exz],\n",
    "                [exy, ey,  eyz],\n",
    "                [exz, eyz, ez]])"
   ]
  },
  {
   "cell_type": "code",
   "execution_count": 4,
   "id": "a8af97d3-d2d4-4d8a-9141-0d2632d00f07",
   "metadata": {},
   "outputs": [],
   "source": [
    "ng=Matrix([[alfa],\n",
    "           [beta],\n",
    "           [gama]])"
   ]
  },
  {
   "cell_type": "code",
   "execution_count": 5,
   "id": "08e68bc7-2065-4be2-aaed-bc3adc142dfb",
   "metadata": {},
   "outputs": [],
   "source": [
    "I=Matrix([[1,0,0],\n",
    "          [0,1,0],\n",
    "          [0,0,1]])"
   ]
  },
  {
   "cell_type": "code",
   "execution_count": 6,
   "id": "a9efc203-39d4-4c48-889c-655e086d8d43",
   "metadata": {},
   "outputs": [
    {
     "data": {
      "text/latex": [
       "$\\displaystyle T=\\left[\\begin{matrix}\\alpha \\left(\\alpha \\varepsilon_{x} + \\beta \\varepsilon_{xy} + \\gamma \\varepsilon_{xz}\\right) + \\beta \\left(\\alpha \\varepsilon_{xy} + \\beta \\varepsilon_{y} + \\gamma \\varepsilon_{yz}\\right) + \\gamma \\left(\\alpha \\varepsilon_{xz} + \\beta \\varepsilon_{yz} + \\gamma \\varepsilon_{z}\\right)\\end{matrix}\\right]$"
      ],
      "text/plain": [
       "<IPython.core.display.Math object>"
      ]
     },
     "execution_count": 6,
     "metadata": {},
     "output_type": "execute_result"
    }
   ],
   "source": [
    "so=ng.T*epsilon*ng\n",
    "sol= simplify(so)\n",
    "imprimir(r\"T=\",sol)"
   ]
  },
  {
   "cell_type": "code",
   "execution_count": 7,
   "id": "13edc1fc-9e4e-44d8-95a1-929366686d81",
   "metadata": {},
   "outputs": [
    {
     "data": {
      "text/latex": [
       "$\\displaystyle T=\\left[\\begin{matrix}\\varepsilon_{n} \\left(- \\alpha^{2} - \\beta^{2} - \\gamma^{2} + 1\\right)\\end{matrix}\\right]$"
      ],
      "text/plain": [
       "<IPython.core.display.Math object>"
      ]
     },
     "execution_count": 7,
     "metadata": {},
     "output_type": "execute_result"
    }
   ],
   "source": [
    "sol2=Matrix([[en*(1-(alfa**2)-(beta**2)-(gama**2))]])\n",
    "imprimir(r\"T=\",sol2)"
   ]
  },
  {
   "cell_type": "code",
   "execution_count": 8,
   "id": "c86df1d0-82bc-466c-8dd3-11c9e435b17f",
   "metadata": {},
   "outputs": [
    {
     "data": {
      "text/latex": [
       "$\\displaystyle T=\\left[\\begin{matrix}\\alpha \\left(\\alpha \\varepsilon_{x} + \\beta \\varepsilon_{xy} + \\gamma \\varepsilon_{xz}\\right) + \\beta \\left(\\alpha \\varepsilon_{xy} + \\beta \\varepsilon_{y} + \\gamma \\varepsilon_{yz}\\right) + \\gamma \\left(\\alpha \\varepsilon_{xz} + \\beta \\varepsilon_{yz} + \\gamma \\varepsilon_{z}\\right) + \\varepsilon_{n} \\left(- \\alpha^{2} - \\beta^{2} - \\gamma^{2} + 1\\right)\\end{matrix}\\right]$"
      ],
      "text/plain": [
       "<IPython.core.display.Math object>"
      ]
     },
     "execution_count": 8,
     "metadata": {},
     "output_type": "execute_result"
    }
   ],
   "source": [
    "sol3=sol+sol2\n",
    "imprimir(r\"T=\",sol3)"
   ]
  },
  {
   "cell_type": "code",
   "execution_count": 9,
   "id": "95a448b6-d17b-45a0-8712-a6569a210ee3",
   "metadata": {},
   "outputs": [],
   "source": [
    "L=sol3"
   ]
  },
  {
   "cell_type": "code",
   "execution_count": 10,
   "id": "02d38c58-82d0-4478-a4c7-02fe0f8571f3",
   "metadata": {},
   "outputs": [
    {
     "data": {
      "text/latex": [
       "$\\displaystyle beta=\\left[\\begin{matrix}2 \\alpha \\varepsilon_{xy} - 2 \\beta \\varepsilon_{n} + 2 \\beta \\varepsilon_{y} + 2 \\gamma \\varepsilon_{yz}\\end{matrix}\\right]$"
      ],
      "text/plain": [
       "<IPython.core.display.Math object>"
      ]
     },
     "execution_count": 10,
     "metadata": {},
     "output_type": "execute_result"
    }
   ],
   "source": [
    "dl_alfa=diff(L, alfa)\n",
    "dl_beta=diff(L, beta)\n",
    "dl_gama=diff(L, gama)\n",
    "dl_en=diff(L, en)\n",
    "imprimir (r\"beta=\",dl_beta)"
   ]
  },
  {
   "cell_type": "code",
   "execution_count": 11,
   "id": "fcf59f5b-bb8b-4ff7-af6e-2524de9a9e50",
   "metadata": {},
   "outputs": [],
   "source": [
    "#obtengo el polinomio caracteristico con la funcion"
   ]
  },
  {
   "cell_type": "code",
   "execution_count": 12,
   "id": "06fff1e1-90d4-4825-866e-a6877d5c7023",
   "metadata": {},
   "outputs": [
    {
     "data": {
      "text/latex": [
       "$\\displaystyle pilincar=\\operatorname{PurePoly}{\\left( -\\varepsilon_{xp}^{3} + \\left(\\varepsilon_{x} + \\varepsilon_{y} + \\varepsilon_{z}\\right) \\varepsilon_{xp}^{2} + \\left(- \\varepsilon_{x} \\varepsilon_{y} - \\varepsilon_{x} \\varepsilon_{z} + \\varepsilon_{xy}^{2} + \\varepsilon_{xz}^{2} - \\varepsilon_{y} \\varepsilon_{z} + \\varepsilon_{yz}^{2}\\right) \\varepsilon_{xp} + \\varepsilon_{x} \\varepsilon_{y} \\varepsilon_{z} - \\varepsilon_{x} \\varepsilon_{yz}^{2} - \\varepsilon_{xy}^{2} \\varepsilon_{z} + 2 \\varepsilon_{xy} \\varepsilon_{xz} \\varepsilon_{yz} - \\varepsilon_{xz}^{2} \\varepsilon_{y}, \\varepsilon_{xp}, domain=\\mathbb{Z}\\left[\\varepsilon_{x}, \\varepsilon_{xy}, \\varepsilon_{xz}, \\varepsilon_{y}, \\varepsilon_{yz}, \\varepsilon_{z}\\right] \\right)}$"
      ],
      "text/plain": [
       "<IPython.core.display.Math object>"
      ]
     },
     "execution_count": 12,
     "metadata": {},
     "output_type": "execute_result"
    }
   ],
   "source": [
    "polinomcar = -epsilon.charpoly(exp)\n",
    "imprimir (r\"pilincar=\",polinomcar)"
   ]
  },
  {
   "cell_type": "code",
   "execution_count": 13,
   "id": "302aa5fc-c283-4af7-841e-7e4c694fd5d7",
   "metadata": {},
   "outputs": [
    {
     "data": {
      "text/latex": [
       "$\\displaystyle \\varepsilon_{x} \\varepsilon_{y} \\varepsilon_{z} - \\varepsilon_{x} \\varepsilon_{yz}^{2} - \\varepsilon_{xp}^{3} + \\varepsilon_{xp}^{2} \\left(\\varepsilon_{x} + \\varepsilon_{y} + \\varepsilon_{z}\\right) + \\varepsilon_{xp} \\left(- \\varepsilon_{x} \\varepsilon_{y} - \\varepsilon_{x} \\varepsilon_{z} + \\varepsilon_{xy}^{2} + \\varepsilon_{xz}^{2} - \\varepsilon_{y} \\varepsilon_{z} + \\varepsilon_{yz}^{2}\\right) - \\varepsilon_{xy}^{2} \\varepsilon_{z} + 2 \\varepsilon_{xy} \\varepsilon_{xz} \\varepsilon_{yz} - \\varepsilon_{xz}^{2} \\varepsilon_{y}$"
      ],
      "text/plain": [
       "                                                                 2               3               2                     ↪\n",
       "varepsilonₓ⋅varepsilon_y⋅varepsilon_z - varepsilonₓ⋅varepsilon_yz  - varepsilonₓₚ  + varepsilonₓₚ ⋅(varepsilonₓ + vare ↪\n",
       "\n",
       "↪                                         ⎛                                                                    2       ↪\n",
       "↪ psilon_y + varepsilon_z) + varepsilonₓₚ⋅⎝-varepsilonₓ⋅varepsilon_y - varepsilonₓ⋅varepsilon_z + varepsilon_xy  + var ↪\n",
       "\n",
       "↪           2                                            2⎞                2                                           ↪\n",
       "↪ epsilon_xz  - varepsilon_y⋅varepsilon_z + varepsilon_yz ⎠ - varepsilon_xy ⋅varepsilon_z + 2⋅varepsilon_xy⋅varepsilon ↪\n",
       "\n",
       "↪                                  2             \n",
       "↪ _xz⋅varepsilon_yz - varepsilon_xz ⋅varepsilon_y"
      ]
     },
     "execution_count": 13,
     "metadata": {},
     "output_type": "execute_result"
    }
   ],
   "source": [
    "poli_car_1 = polinomcar.as_expr()\n",
    "poli_car_1"
   ]
  },
  {
   "cell_type": "code",
   "execution_count": 14,
   "id": "44dcf78b-2986-43f4-b9fd-fea47e8d0a99",
   "metadata": {},
   "outputs": [],
   "source": [
    "#determino el polinomio caracteristico mediante vel determeninante det(e-enI)=0"
   ]
  },
  {
   "cell_type": "code",
   "execution_count": 15,
   "id": "d3fe074c-a76c-48cc-87d7-58a96cba3957",
   "metadata": {},
   "outputs": [
    {
     "data": {
      "text/latex": [
       "$\\displaystyle \\varepsilon_{x} \\varepsilon_{xp}^{2} - \\varepsilon_{x} \\varepsilon_{xp} \\varepsilon_{y} - \\varepsilon_{x} \\varepsilon_{xp} \\varepsilon_{z} + \\varepsilon_{x} \\varepsilon_{y} \\varepsilon_{z} - \\varepsilon_{x} \\varepsilon_{yz}^{2} - \\varepsilon_{xp}^{3} + \\varepsilon_{xp}^{2} \\varepsilon_{y} + \\varepsilon_{xp}^{2} \\varepsilon_{z} + \\varepsilon_{xp} \\varepsilon_{xy}^{2} + \\varepsilon_{xp} \\varepsilon_{xz}^{2} - \\varepsilon_{xp} \\varepsilon_{y} \\varepsilon_{z} + \\varepsilon_{xp} \\varepsilon_{yz}^{2} - \\varepsilon_{xy}^{2} \\varepsilon_{z} + 2 \\varepsilon_{xy} \\varepsilon_{xz} \\varepsilon_{yz} - \\varepsilon_{xz}^{2} \\varepsilon_{y}$"
      ],
      "text/plain": [
       "                        2                                                                                              ↪\n",
       "varepsilonₓ⋅varepsilonₓₚ  - varepsilonₓ⋅varepsilonₓₚ⋅varepsilon_y - varepsilonₓ⋅varepsilonₓₚ⋅varepsilon_z + varepsilon ↪\n",
       "\n",
       "↪                                                        2               3               2                             ↪\n",
       "↪ ₓ⋅varepsilon_y⋅varepsilon_z - varepsilonₓ⋅varepsilon_yz  - varepsilonₓₚ  + varepsilonₓₚ ⋅varepsilon_y + varepsilonₓₚ ↪\n",
       "\n",
       "↪ 2                                          2                             2                                           ↪\n",
       "↪  ⋅varepsilon_z + varepsilonₓₚ⋅varepsilon_xy  + varepsilonₓₚ⋅varepsilon_xz  - varepsilonₓₚ⋅varepsilon_y⋅varepsilon_z  ↪\n",
       "\n",
       "↪                             2                2                                                                       ↪\n",
       "↪ + varepsilonₓₚ⋅varepsilon_yz  - varepsilon_xy ⋅varepsilon_z + 2⋅varepsilon_xy⋅varepsilon_xz⋅varepsilon_yz - varepsil ↪\n",
       "\n",
       "↪      2             \n",
       "↪ on_xz ⋅varepsilon_y"
      ]
     },
     "execution_count": 15,
     "metadata": {},
     "output_type": "execute_result"
    }
   ],
   "source": [
    "poli_car_2 = det(epsilon - exp*I)\n",
    "poli_car_2"
   ]
  },
  {
   "cell_type": "code",
   "execution_count": 16,
   "id": "d916d33e-fb59-45f9-aea0-b7692908a21a",
   "metadata": {},
   "outputs": [
    {
     "data": {
      "text/latex": [
       "$\\displaystyle 0$"
      ],
      "text/plain": [
       "0"
      ]
     },
     "execution_count": 16,
     "metadata": {},
     "output_type": "execute_result"
    }
   ],
   "source": [
    "expand(poli_car_2 - poli_car_1)"
   ]
  },
  {
   "cell_type": "code",
   "execution_count": 17,
   "id": "9b71037d-d4bb-451c-8dcd-4a7c1dac5c02",
   "metadata": {},
   "outputs": [],
   "source": [
    "invar = polinomcar.all_coeffs()"
   ]
  },
  {
   "cell_type": "code",
   "execution_count": 18,
   "id": "9dfeb5ed-90af-4278-a779-4c34507ae29d",
   "metadata": {},
   "outputs": [
    {
     "data": {
      "text/latex": [
       "$\\displaystyle \\left[ -1, \\  \\varepsilon_{x} + \\varepsilon_{y} + \\varepsilon_{z}, \\  - \\varepsilon_{x} \\varepsilon_{y} - \\varepsilon_{x} \\varepsilon_{z} + \\varepsilon_{xy}^{2} + \\varepsilon_{xz}^{2} - \\varepsilon_{y} \\varepsilon_{z} + \\varepsilon_{yz}^{2}, \\  \\varepsilon_{x} \\varepsilon_{y} \\varepsilon_{z} - \\varepsilon_{x} \\varepsilon_{yz}^{2} - \\varepsilon_{xy}^{2} \\varepsilon_{z} + 2 \\varepsilon_{xy} \\varepsilon_{xz} \\varepsilon_{yz} - \\varepsilon_{xz}^{2} \\varepsilon_{y}\\right]$"
      ],
      "text/plain": [
       "⎡                                                                                                                   2  ↪\n",
       "⎣-1, varepsilonₓ + varepsilon_y + varepsilon_z, -varepsilonₓ⋅varepsilon_y - varepsilonₓ⋅varepsilon_z + varepsilon_xy   ↪\n",
       "\n",
       "↪                2                                            2                                                        ↪\n",
       "↪ + varepsilon_xz  - varepsilon_y⋅varepsilon_z + varepsilon_yz , varepsilonₓ⋅varepsilon_y⋅varepsilon_z - varepsilonₓ⋅v ↪\n",
       "\n",
       "↪             2                2                                                                           2           ↪\n",
       "↪ arepsilon_yz  - varepsilon_xy ⋅varepsilon_z + 2⋅varepsilon_xy⋅varepsilon_xz⋅varepsilon_yz - varepsilon_xz ⋅varepsilo ↪\n",
       "\n",
       "↪    ⎤\n",
       "↪ n_y⎦"
      ]
     },
     "execution_count": 18,
     "metadata": {},
     "output_type": "execute_result"
    }
   ],
   "source": [
    "invar"
   ]
  },
  {
   "cell_type": "code",
   "execution_count": 19,
   "id": "1707e2af-2100-47f9-aac4-0efda464146f",
   "metadata": {},
   "outputs": [],
   "source": [
    "\n",
    "#son los valores propios \n",
    "I0 =  invar[0]\n",
    "I1 =  invar[1]\n",
    "I2 = -invar[2]  # Cuidado con este signo negativo.\n",
    "I3 =  invar[3]"
   ]
  },
  {
   "cell_type": "code",
   "execution_count": 20,
   "id": "8f87a1cd-53e6-4d7f-9b0c-039a989e0f4c",
   "metadata": {},
   "outputs": [
    {
     "data": {
      "text/latex": [
       "$\\displaystyle I_0 = -1$"
      ],
      "text/plain": [
       "<IPython.core.display.Math object>"
      ]
     },
     "execution_count": 20,
     "metadata": {},
     "output_type": "execute_result"
    }
   ],
   "source": [
    "imprimir(\"I_0 = \", I0)"
   ]
  },
  {
   "cell_type": "code",
   "execution_count": 21,
   "id": "ef84d81d-0bee-4497-b4d5-56bc3a97f8a0",
   "metadata": {},
   "outputs": [
    {
     "data": {
      "text/latex": [
       "$\\displaystyle I_1 = \\varepsilon_{x} + \\varepsilon_{y} + \\varepsilon_{z}$"
      ],
      "text/plain": [
       "<IPython.core.display.Math object>"
      ]
     },
     "execution_count": 21,
     "metadata": {},
     "output_type": "execute_result"
    }
   ],
   "source": [
    "imprimir(\"I_1 = \", I1)"
   ]
  },
  {
   "cell_type": "code",
   "execution_count": 22,
   "id": "af6da0d2-9604-4fcf-a9c5-01d579d42ca8",
   "metadata": {},
   "outputs": [
    {
     "data": {
      "text/latex": [
       "$\\displaystyle I_2 = \\varepsilon_{x} \\varepsilon_{y} + \\varepsilon_{x} \\varepsilon_{z} - \\varepsilon_{xy}^{2} - \\varepsilon_{xz}^{2} + \\varepsilon_{y} \\varepsilon_{z} - \\varepsilon_{yz}^{2}$"
      ],
      "text/plain": [
       "<IPython.core.display.Math object>"
      ]
     },
     "execution_count": 22,
     "metadata": {},
     "output_type": "execute_result"
    }
   ],
   "source": [
    "imprimir(\"I_2 = \", I2)"
   ]
  },
  {
   "cell_type": "code",
   "execution_count": 23,
   "id": "c326fbca-b1a7-4b04-81f3-afc0a3562667",
   "metadata": {},
   "outputs": [
    {
     "data": {
      "text/latex": [
       "$\\displaystyle I_3 = \\varepsilon_{x} \\varepsilon_{y} \\varepsilon_{z} - \\varepsilon_{x} \\varepsilon_{yz}^{2} - \\varepsilon_{xy}^{2} \\varepsilon_{z} + 2 \\varepsilon_{xy} \\varepsilon_{xz} \\varepsilon_{yz} - \\varepsilon_{xz}^{2} \\varepsilon_{y}$"
      ],
      "text/plain": [
       "<IPython.core.display.Math object>"
      ]
     },
     "execution_count": 23,
     "metadata": {},
     "output_type": "execute_result"
    }
   ],
   "source": [
    "imprimir(\"I_3 = \", I3)"
   ]
  },
  {
   "cell_type": "code",
   "execution_count": 24,
   "id": "7e9d1318-0bce-407b-9377-ee3a38ad83c1",
   "metadata": {},
   "outputs": [
    {
     "data": {
      "text/latex": [
       "$\\displaystyle sistema=\\left[\\begin{matrix}\\alpha \\varepsilon_{x} + \\alpha + \\beta \\varepsilon_{xy} + \\gamma \\varepsilon_{xz}\\\\\\alpha \\varepsilon_{xy} + \\beta \\varepsilon_{y} + \\beta + \\gamma \\varepsilon_{yz}\\\\\\alpha \\varepsilon_{xz} + \\beta \\varepsilon_{yz} + \\gamma \\varepsilon_{z} + \\gamma\\end{matrix}\\right]$"
      ],
      "text/plain": [
       "<IPython.core.display.Math object>"
      ]
     },
     "execution_count": 24,
     "metadata": {},
     "output_type": "execute_result"
    }
   ],
   "source": [
    "#Con cada valo propio hallar el vector propio correspondiente con un sistema de ecuaciones \n",
    "sistema=(epsilon*ng)-(I0*ng)\n",
    "imprimir (r\"sistema=\", sistema)"
   ]
  },
  {
   "cell_type": "code",
   "execution_count": 26,
   "id": "c6dbd842-5906-4711-b880-5fd8e9228481",
   "metadata": {},
   "outputs": [
    {
     "data": {
      "text/latex": [
       "$\\displaystyle \\left\\{ \\alpha : 0, \\  \\beta : 0, \\  \\gamma : 0\\right\\}$"
      ],
      "text/plain": [
       "{α: 0, β: 0, γ: 0}"
      ]
     },
     "execution_count": 26,
     "metadata": {},
     "output_type": "execute_result"
    }
   ],
   "source": [
    "solve(sistema,[alfa,beta,gama])"
   ]
  },
  {
   "cell_type": "code",
   "execution_count": null,
   "id": "b84ccd29-eec8-4be5-902d-70aa8efd1203",
   "metadata": {},
   "outputs": [],
   "source": []
  }
 ],
 "metadata": {
  "kernelspec": {
   "display_name": "Python 3 (ipykernel)",
   "language": "python",
   "name": "python3"
  },
  "language_info": {
   "codemirror_mode": {
    "name": "ipython",
    "version": 3
   },
   "file_extension": ".py",
   "mimetype": "text/x-python",
   "name": "python",
   "nbconvert_exporter": "python",
   "pygments_lexer": "ipython3",
   "version": "3.12.4"
  }
 },
 "nbformat": 4,
 "nbformat_minor": 5
}
