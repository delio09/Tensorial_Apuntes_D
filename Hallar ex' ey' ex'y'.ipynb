{
 "cells": [
  {
   "cell_type": "code",
   "execution_count": 1,
   "id": "6407b58f-5627-4b86-a963-b7dc4ac0ae17",
   "metadata": {},
   "outputs": [],
   "source": [
    "#Importo las librerias \n",
    "from sympy import sin, cos, init_printing, latex, symbols, Matrix, trigsimp, expand, linear_eq_to_matrix, expand_trig, simplify\n",
    "\n",
    "# Para imprimir bonito\n",
    "init_printing()  #\n",
    "from IPython.display import Math   #importo la libreria math para los simbolos               \n",
    "def imprimir (texto1, variable, texto2=\"\"):  #defino la funcion con los parametros a utilizar \n",
    "    return Math(texto1 +  rf'{latex(variable)}' + texto2)  #retorna llamada a libreria "
   ]
  },
  {
   "cell_type": "code",
   "execution_count": 3,
   "id": "23970e5d-d86f-42af-9b79-5531e16c2879",
   "metadata": {},
   "outputs": [],
   "source": [
    "ex, ey, exy, t = symbols(\"varepsilon_x, varepsilon_y, varepsilon_xy, theta\")"
   ]
  },
  {
   "cell_type": "code",
   "execution_count": 4,
   "id": "856de09f-cf99-4fc0-a7e0-70130581a06d",
   "metadata": {},
   "outputs": [],
   "source": [
    "#matrix de transformacion T para 2 dimensiones \n",
    "T = Matrix([[cos(t), -sin(t),   0],\n",
    "            [sin(t),  cos(t),   0],\n",
    "            [     0,       0,   1]])"
   ]
  },
  {
   "cell_type": "code",
   "execution_count": 5,
   "id": "96cde87e-4745-4269-ac03-a54d323eabec",
   "metadata": {},
   "outputs": [],
   "source": [
    "#Matrix de  de deformaciones en los ejes (x,y)\n",
    "epsilon = Matrix([[ ex, exy,  0],\n",
    "                  [exy,  ey,  0],\n",
    "                  [  0,   0,  0]])"
   ]
  },
  {
   "cell_type": "code",
   "execution_count": 6,
   "id": "046a9485-c935-4a58-802d-5da60783b31b",
   "metadata": {},
   "outputs": [],
   "source": [
    "#cambio de sistema cordenado lasdeformaciones\n",
    "defP = trigsimp(T.T*epsilon*T)"
   ]
  },
  {
   "cell_type": "code",
   "execution_count": 7,
   "id": "86905ee3-0a53-457f-8e47-af397281493a",
   "metadata": {},
   "outputs": [],
   "source": [
    "#despejo las incognitas y las  extraeigo (exp, eyp, expyp)\n",
    "exp   = expand(defP[0,0])\n",
    "eyp   = expand(defP[1,1])\n",
    "expyp = expand(defP[0,1])"
   ]
  },
  {
   "cell_type": "code",
   "execution_count": 8,
   "id": "deaa9bbb-1ce7-44f8-8f84-50e6f1038d46",
   "metadata": {},
   "outputs": [],
   "source": [
    "#imprimo las variables extraidas y despejadas"
   ]
  },
  {
   "cell_type": "code",
   "execution_count": 9,
   "id": "41db3ea5-52e4-4e3b-8162-b74c8a9b2252",
   "metadata": {},
   "outputs": [
    {
     "data": {
      "text/latex": [
       "$\\displaystyle \\varepsilon_{x'}(\\theta) = \\frac{\\varepsilon_{x} \\cos{\\left(2 \\theta \\right)}}{2} + \\frac{\\varepsilon_{x}}{2} + \\varepsilon_{xy} \\sin{\\left(2 \\theta \\right)} - \\frac{\\varepsilon_{y} \\cos{\\left(2 \\theta \\right)}}{2} + \\frac{\\varepsilon_{y}}{2}$"
      ],
      "text/plain": [
       "<IPython.core.display.Math object>"
      ]
     },
     "execution_count": 9,
     "metadata": {},
     "output_type": "execute_result"
    }
   ],
   "source": [
    "imprimir(r\"\\varepsilon_{x'}(\\theta) = \", exp)"
   ]
  },
  {
   "cell_type": "code",
   "execution_count": 10,
   "id": "7f675216-0b61-4997-8e9b-21aa6add4d60",
   "metadata": {},
   "outputs": [
    {
     "data": {
      "text/latex": [
       "$\\displaystyle \\varepsilon_{y'}(\\theta) = - \\frac{\\varepsilon_{x} \\cos{\\left(2 \\theta \\right)}}{2} + \\frac{\\varepsilon_{x}}{2} - \\varepsilon_{xy} \\sin{\\left(2 \\theta \\right)} + \\frac{\\varepsilon_{y} \\cos{\\left(2 \\theta \\right)}}{2} + \\frac{\\varepsilon_{y}}{2}$"
      ],
      "text/plain": [
       "<IPython.core.display.Math object>"
      ]
     },
     "execution_count": 10,
     "metadata": {},
     "output_type": "execute_result"
    }
   ],
   "source": [
    "imprimir(r\"\\varepsilon_{y'}(\\theta) = \", eyp)"
   ]
  },
  {
   "cell_type": "code",
   "execution_count": 11,
   "id": "5360b0fa-5858-4693-ab8a-885aadf1e1c3",
   "metadata": {},
   "outputs": [
    {
     "data": {
      "text/latex": [
       "$\\displaystyle \\varepsilon_{x'y'}(\\theta) = - \\frac{\\varepsilon_{x} \\sin{\\left(2 \\theta \\right)}}{2} + \\varepsilon_{xy} \\cos{\\left(2 \\theta \\right)} + \\frac{\\varepsilon_{y} \\sin{\\left(2 \\theta \\right)}}{2}$"
      ],
      "text/plain": [
       "<IPython.core.display.Math object>"
      ]
     },
     "execution_count": 11,
     "metadata": {},
     "output_type": "execute_result"
    }
   ],
   "source": [
    "imprimir(r\"\\varepsilon_{x'y'}(\\theta) = \", expyp)"
   ]
  },
  {
   "cell_type": "code",
   "execution_count": null,
   "id": "b0bace46-1a4f-4ecf-a863-4bacb06816b8",
   "metadata": {},
   "outputs": [],
   "source": []
  }
 ],
 "metadata": {
  "kernelspec": {
   "display_name": "Python 3 (ipykernel)",
   "language": "python",
   "name": "python3"
  },
  "language_info": {
   "codemirror_mode": {
    "name": "ipython",
    "version": 3
   },
   "file_extension": ".py",
   "mimetype": "text/x-python",
   "name": "python",
   "nbconvert_exporter": "python",
   "pygments_lexer": "ipython3",
   "version": "3.12.4"
  }
 },
 "nbformat": 4,
 "nbformat_minor": 5
}
