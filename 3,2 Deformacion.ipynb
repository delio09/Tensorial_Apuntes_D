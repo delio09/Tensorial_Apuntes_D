{
 "cells": [
  {
   "cell_type": "code",
   "execution_count": 1,
   "id": "62bcde72-1772-448b-b792-4370f17bf697",
   "metadata": {},
   "outputs": [],
   "source": [
    "import sympy as sp \n",
    "from sympy import sin, cos, init_printing, latex, symbols, Matrix, trigsimp, expand, linear_eq_to_matrix, expand_trig\n",
    "\n",
    "# Para imprimir bonito\n",
    "init_printing()\n",
    "from IPython.display import Math                 \n",
    "def imprimir (texto1, variable, texto2=\"\"):\n",
    "    return Math(texto1 +  rf'{latex(variable)}' + texto2)"
   ]
  },
  {
   "cell_type": "code",
   "execution_count": 2,
   "id": "af8d5a03-1033-40e2-961c-f220f949749d",
   "metadata": {},
   "outputs": [],
   "source": [
    "#defino los simbolos para usar en el ejercicio\n",
    "x,y,deltax,deltay,uxy,vxy,udeltaxy,vdeltaxy, = sp.symbols('x,y,Delta_{x},Δy,u(x_y),v(x_y),u(x+Δx_y),v(x_Δy+y)')"
   ]
  },
  {
   "cell_type": "code",
   "execution_count": 3,
   "id": "cdf13a41-f4cc-48e9-bf91-1104c39aed35",
   "metadata": {},
   "outputs": [],
   "source": [
    "A=sp.Matrix([[x],\n",
    "             [y]])"
   ]
  },
  {
   "cell_type": "code",
   "execution_count": 4,
   "id": "d0f5cd1e-24f4-4bcd-98b4-f943e169f7a5",
   "metadata": {},
   "outputs": [],
   "source": [
    "B=sp.Matrix([[x+deltax],\n",
    "             [y]])"
   ]
  },
  {
   "cell_type": "code",
   "execution_count": 5,
   "id": "27eeb03d-13e1-4b25-8998-9e97b6c93bfc",
   "metadata": {},
   "outputs": [],
   "source": [
    "C=sp.Matrix([[x+deltax],\n",
    "    [y+deltay]])"
   ]
  },
  {
   "cell_type": "code",
   "execution_count": 6,
   "id": "d690f280-c876-4287-9e45-2116303c7369",
   "metadata": {},
   "outputs": [],
   "source": [
    "D=sp.Matrix([[x],\n",
    "    [y+deltay]])"
   ]
  },
  {
   "cell_type": "code",
   "execution_count": 7,
   "id": "654163b6-b158-4c52-9bc8-2835d567ce01",
   "metadata": {},
   "outputs": [],
   "source": [
    "AP=sp.Matrix([[x+uxy],\n",
    "             [y+vxy]])"
   ]
  },
  {
   "cell_type": "code",
   "execution_count": 8,
   "id": "1aed8a86-fb49-4bba-a729-d8375201ed56",
   "metadata": {},
   "outputs": [],
   "source": [
    "BP=sp.Matrix([[x+deltax+udeltaxy],\n",
    "             [y+vxy]])"
   ]
  },
  {
   "cell_type": "code",
   "execution_count": 9,
   "id": "85e01945-2dec-4ea7-a096-66493e8cf2e0",
   "metadata": {},
   "outputs": [],
   "source": [
    "CP=sp.Matrix([[x+uxy],\n",
    "             [y+deltay+vdeltaxy]])"
   ]
  },
  {
   "cell_type": "code",
   "execution_count": 10,
   "id": "276155c4-c00f-43f7-a9ac-d247043c7d16",
   "metadata": {},
   "outputs": [],
   "source": [
    "DP=sp.Matrix([[x+deltax+udeltaxy],\n",
    "             [y+deltay+vdeltaxy]])"
   ]
  },
  {
   "cell_type": "code",
   "execution_count": 11,
   "id": "cdf0d4ab-f8e0-40c9-8c0f-d891895a42b1",
   "metadata": {},
   "outputs": [],
   "source": [
    "AD=D-A\n",
    "APDP=DP-AP"
   ]
  },
  {
   "cell_type": "code",
   "execution_count": 12,
   "id": "2c0f4674-76fa-4627-8dcf-fab53120bf71",
   "metadata": {},
   "outputs": [
    {
     "name": "stdout",
     "output_type": "stream",
     "text": [
      "Matrix([[Delta_{x} + u(x+Δx_y) - u(x_y)], [-v(x_y) + v(x_Δy+y)]]) / Matrix([[0], [Δy]])\n"
     ]
    }
   ],
   "source": [
    "print (APDP-AD,'/',AD) "
   ]
  },
  {
   "cell_type": "code",
   "execution_count": 19,
   "id": "41c67105-3ac1-42ff-ac5e-e1a2141d5956",
   "metadata": {},
   "outputs": [
    {
     "ename": "SyntaxError",
     "evalue": "unexpected character after line continuation character (524558705.py, line 1)",
     "output_type": "error",
     "traceback": [
      "\u001b[1;36m  Cell \u001b[1;32mIn[19], line 1\u001b[1;36m\u001b[0m\n\u001b[1;33m    imprimir(rf\"{\\deltax} = \",AD )\u001b[0m\n\u001b[1;37m                  ^\u001b[0m\n\u001b[1;31mSyntaxError\u001b[0m\u001b[1;31m:\u001b[0m unexpected character after line continuation character\n"
     ]
    }
   ],
   "source": []
  },
  {
   "cell_type": "code",
   "execution_count": null,
   "id": "4b7dddfa-e966-44bb-9681-83ec3f5007be",
   "metadata": {},
   "outputs": [],
   "source": []
  },
  {
   "cell_type": "code",
   "execution_count": null,
   "id": "c63f4315-5cc9-4bc9-82f6-a57f6a5733b8",
   "metadata": {},
   "outputs": [],
   "source": []
  }
 ],
 "metadata": {
  "kernelspec": {
   "display_name": "Python 3 (ipykernel)",
   "language": "python",
   "name": "python3"
  },
  "language_info": {
   "codemirror_mode": {
    "name": "ipython",
    "version": 3
   },
   "file_extension": ".py",
   "mimetype": "text/x-python",
   "name": "python",
   "nbconvert_exporter": "python",
   "pygments_lexer": "ipython3",
   "version": "3.12.4"
  }
 },
 "nbformat": 4,
 "nbformat_minor": 5
}
