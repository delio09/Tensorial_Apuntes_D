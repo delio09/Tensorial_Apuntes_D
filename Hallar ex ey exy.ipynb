{
 "cells": [
  {
   "cell_type": "code",
   "execution_count": 1,
   "id": "9e9a3263-0ff9-405b-8d9a-4afeffff88c7",
   "metadata": {},
   "outputs": [],
   "source": [
    "#Importo las librerias \n",
    "from sympy import sin, cos, init_printing, latex, symbols, Matrix, trigsimp, expand, linear_eq_to_matrix, expand_trig, simplify\n",
    "\n",
    "# Para imprimir bonito\n",
    "init_printing()\n",
    "from IPython.display import Math                 \n",
    "def imprimir (texto1, variable, texto2=\"\"):\n",
    "    return Math(texto1 +  rf'{latex(variable)}' + texto2)"
   ]
  },
  {
   "cell_type": "code",
   "execution_count": 2,
   "id": "64dd376f-0358-48ee-826b-657eb0c5520a",
   "metadata": {},
   "outputs": [],
   "source": [
    "exp, eyp, expyp, t = symbols(\"varepsilon_xp, varepsilon_yp, varepsilon_xpyp, theta\")"
   ]
  },
  {
   "cell_type": "code",
   "execution_count": 3,
   "id": "9373088f-ba80-4e92-8fe0-9053a172907c",
   "metadata": {},
   "outputs": [],
   "source": [
    "#matrix de transformacion T para 2 dimensiones \n",
    "T = Matrix([[cos(t), -sin(t),   0],\n",
    "            [sin(t),  cos(t),   0],\n",
    "            [     0,       0,   1]])"
   ]
  },
  {
   "cell_type": "code",
   "execution_count": 4,
   "id": "f41816c7-a60f-4678-a202-b134e0b9020e",
   "metadata": {},
   "outputs": [],
   "source": [
    "#Matrix de  de deformaciones en los ejes (x,y)\n",
    "epsilonp = Matrix([[ exp,   expyp,  0],\n",
    "                  [expyp,  eyp,    0],\n",
    "                  [  0,    0,      0]])"
   ]
  },
  {
   "cell_type": "code",
   "execution_count": 5,
   "id": "017d6921-d2ce-47e0-b093-d09480f23b78",
   "metadata": {},
   "outputs": [],
   "source": [
    "#cambio de sistema de cordenadas las deformaciones \n",
    "epsilon= trigsimp(T.T*epsilonp*T)"
   ]
  },
  {
   "cell_type": "code",
   "execution_count": 11,
   "id": "5e700c08-8155-4f4f-86a8-32f079319fb4",
   "metadata": {},
   "outputs": [],
   "source": [
    "#despejo y extraigo en funcion de las variables que necesito\n",
    "ex=expand(epsilon[0,0])\n",
    "ey=expand(epsilon[1,1])\n",
    "exy=expand(epsilon[0,1])"
   ]
  },
  {
   "cell_type": "code",
   "execution_count": null,
   "id": "a16c3f8f-8232-4fcc-bbfc-29ad0d6eaea2",
   "metadata": {},
   "outputs": [],
   "source": [
    "#imprimo las variables extraidas y despejadas"
   ]
  },
  {
   "cell_type": "code",
   "execution_count": 12,
   "id": "28c8600b-558d-488e-b5d6-4c8222dbd533",
   "metadata": {},
   "outputs": [
    {
     "data": {
      "text/latex": [
       "$\\displaystyle \\varepsilon_{x}(\\theta) = \\frac{\\varepsilon_{xp} \\cos{\\left(2 \\theta \\right)}}{2} + \\frac{\\varepsilon_{xp}}{2} + \\varepsilon_{xpyp} \\sin{\\left(2 \\theta \\right)} - \\frac{\\varepsilon_{yp} \\cos{\\left(2 \\theta \\right)}}{2} + \\frac{\\varepsilon_{yp}}{2}$"
      ],
      "text/plain": [
       "<IPython.core.display.Math object>"
      ]
     },
     "execution_count": 12,
     "metadata": {},
     "output_type": "execute_result"
    }
   ],
   "source": [
    "imprimir(r\"\\varepsilon_{x}(\\theta) = \", ex)"
   ]
  },
  {
   "cell_type": "code",
   "execution_count": 13,
   "id": "3a8be105-8551-4d39-858c-1b121027917b",
   "metadata": {},
   "outputs": [
    {
     "data": {
      "text/latex": [
       "$\\displaystyle \\varepsilon_{x}(\\theta) = - \\frac{\\varepsilon_{xp} \\cos{\\left(2 \\theta \\right)}}{2} + \\frac{\\varepsilon_{xp}}{2} - \\varepsilon_{xpyp} \\sin{\\left(2 \\theta \\right)} + \\frac{\\varepsilon_{yp} \\cos{\\left(2 \\theta \\right)}}{2} + \\frac{\\varepsilon_{yp}}{2}$"
      ],
      "text/plain": [
       "<IPython.core.display.Math object>"
      ]
     },
     "execution_count": 13,
     "metadata": {},
     "output_type": "execute_result"
    }
   ],
   "source": [
    "imprimir(r\"\\varepsilon_{x}(\\theta) = \", ey)"
   ]
  },
  {
   "cell_type": "code",
   "execution_count": 14,
   "id": "bcfba3f9-ceeb-4d25-b85b-23d577051549",
   "metadata": {},
   "outputs": [
    {
     "data": {
      "text/latex": [
       "$\\displaystyle \\varepsilon_{xy}(\\theta) = - \\frac{\\varepsilon_{xp} \\sin{\\left(2 \\theta \\right)}}{2} + \\varepsilon_{xpyp} \\cos{\\left(2 \\theta \\right)} + \\frac{\\varepsilon_{yp} \\sin{\\left(2 \\theta \\right)}}{2}$"
      ],
      "text/plain": [
       "<IPython.core.display.Math object>"
      ]
     },
     "execution_count": 14,
     "metadata": {},
     "output_type": "execute_result"
    }
   ],
   "source": [
    "imprimir(r\"\\varepsilon_{xy}(\\theta) = \", exy)"
   ]
  },
  {
   "cell_type": "code",
   "execution_count": null,
   "id": "338d4dbf-ccc1-48e9-9752-94d75bf4025e",
   "metadata": {},
   "outputs": [],
   "source": []
  }
 ],
 "metadata": {
  "kernelspec": {
   "display_name": "Python 3 (ipykernel)",
   "language": "python",
   "name": "python3"
  },
  "language_info": {
   "codemirror_mode": {
    "name": "ipython",
    "version": 3
   },
   "file_extension": ".py",
   "mimetype": "text/x-python",
   "name": "python",
   "nbconvert_exporter": "python",
   "pygments_lexer": "ipython3",
   "version": "3.12.4"
  }
 },
 "nbformat": 4,
 "nbformat_minor": 5
}
