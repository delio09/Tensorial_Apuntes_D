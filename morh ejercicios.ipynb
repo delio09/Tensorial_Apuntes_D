{
 "cells": [
  {
   "cell_type": "code",
   "execution_count": 16,
   "id": "bcc21c92-fb15-48f2-8b56-633663e82000",
   "metadata": {},
   "outputs": [],
   "source": [
    "from sympy import sin, cos, init_printing, latex, symbols, Matrix, trigsimp, expand, linear_eq_to_matrix, expand_trig, sqrt, atan2, deg\n",
    "init_printing()\n",
    "from IPython.display import Math                 \n",
    "def imprimir (texto1, variable, texto2=\"\"):\n",
    "    return Math(texto1 +  rf'{latex(variable)}' + texto2)"
   ]
  },
  {
   "cell_type": "code",
   "execution_count": 17,
   "id": "ce64b88e-0856-4110-ab01-5060c964c3ec",
   "metadata": {},
   "outputs": [],
   "source": [
    "sx"
   ]
  },
  {
   "cell_type": "code",
   "execution_count": 18,
   "id": "c70be959-0a37-4636-a1ca-3ee178c6848d",
   "metadata": {},
   "outputs": [],
   "source": [
    "#deformaciones maximas y minimas\n",
    "e1=((ex-ey)/2)+(sqrt(((ex-ey)/2)**2)+((exy)**2))"
   ]
  },
  {
   "cell_type": "code",
   "execution_count": 19,
   "id": "a5751993-d751-41f3-8d95-87f7a38174cf",
   "metadata": {},
   "outputs": [],
   "source": [
    "e2=((ex-ey)/2)-(sqrt(((ex-ey)/2)**2)+((exy)**2))"
   ]
  },
  {
   "cell_type": "code",
   "execution_count": 20,
   "id": "256c84c7-4c47-4a65-899b-8333a5a4565a",
   "metadata": {},
   "outputs": [
    {
     "data": {
      "text/latex": [
       "$\\displaystyle \\ {e_x} = 0.0001$"
      ],
      "text/plain": [
       "<IPython.core.display.Math object>"
      ]
     },
     "execution_count": 20,
     "metadata": {},
     "output_type": "execute_result"
    }
   ],
   "source": [
    "imprimir(r\"\\ {e_x} = \", ex)"
   ]
  },
  {
   "cell_type": "code",
   "execution_count": 21,
   "id": "98211a3e-f363-47a8-a073-62fd23452c05",
   "metadata": {},
   "outputs": [
    {
     "data": {
      "text/latex": [
       "$\\displaystyle \\ {e_y} = 0.0002$"
      ],
      "text/plain": [
       "<IPython.core.display.Math object>"
      ]
     },
     "execution_count": 21,
     "metadata": {},
     "output_type": "execute_result"
    }
   ],
   "source": [
    "imprimir(r\"\\ {e_y} = \", ey)"
   ]
  },
  {
   "cell_type": "code",
   "execution_count": 22,
   "id": "783360ff-24bd-4a5e-acf5-2f4a155be028",
   "metadata": {},
   "outputs": [
    {
     "data": {
      "text/latex": [
       "$\\displaystyle \\ {\\theta_1} = -1.40564764938027 + \\pi$"
      ],
      "text/plain": [
       "<IPython.core.display.Math object>"
      ]
     },
     "execution_count": 22,
     "metadata": {},
     "output_type": "execute_result"
    }
   ],
   "source": [
    "teta1=(atan2(exy,((ex-ey)/2)))\n",
    "imprimir(r\"\\ {\\theta_1} = \", teta1)"
   ]
  },
  {
   "cell_type": "code",
   "execution_count": 23,
   "id": "37b559ec-ed21-4258-be0d-dd21830e587f",
   "metadata": {},
   "outputs": [
    {
     "data": {
      "text/latex": [
       "$\\displaystyle \\ {\\theta_2} = -1.40564764938027$"
      ],
      "text/plain": [
       "<IPython.core.display.Math object>"
      ]
     },
     "execution_count": 23,
     "metadata": {},
     "output_type": "execute_result"
    }
   ],
   "source": [
    "teta2=(atan2(-exy,(-1*((ex-ey)/2))))\n",
    "imprimir(r\"\\ {\\theta_2} = \", teta2)"
   ]
  },
  {
   "cell_type": "code",
   "execution_count": null,
   "id": "fc660a26-11cd-4c21-8c16-018dde76178f",
   "metadata": {},
   "outputs": [],
   "source": []
  }
 ],
 "metadata": {
  "kernelspec": {
   "display_name": "Python 3 (ipykernel)",
   "language": "python",
   "name": "python3"
  },
  "language_info": {
   "codemirror_mode": {
    "name": "ipython",
    "version": 3
   },
   "file_extension": ".py",
   "mimetype": "text/x-python",
   "name": "python",
   "nbconvert_exporter": "python",
   "pygments_lexer": "ipython3",
   "version": "3.12.4"
  }
 },
 "nbformat": 4,
 "nbformat_minor": 5
}
