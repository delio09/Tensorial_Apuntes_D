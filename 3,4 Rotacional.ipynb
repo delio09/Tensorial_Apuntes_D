{
 "cells": [
  {
   "cell_type": "code",
   "execution_count": 1,
   "id": "8df56594-e769-4931-bf6c-a5ab45799680",
   "metadata": {},
   "outputs": [],
   "source": [
    "import sympy as sp"
   ]
  },
  {
   "cell_type": "code",
   "execution_count": 35,
   "id": "bdd5ce58-3579-419e-b415-555bf0dd0d48",
   "metadata": {},
   "outputs": [],
   "source": [
    "#defino los simbolos para usar en el ejercicio\n",
    "dudx,dudy,dvdx,dvdy,va,ua,deltax,deltay,uc,vc= sp.symbols('du/dx,du/dy,dv/dx,dv/dy,u(A),v(A),Δx,Δy,u(c),v(c)')"
   ]
  },
  {
   "cell_type": "code",
   "execution_count": 36,
   "id": "d1356fac-dea0-4b77-99ea-6b7a55c6ddc3",
   "metadata": {},
   "outputs": [],
   "source": [
    "#defino la matriz H\n",
    "H = sp.Matrix([[dudx,dudy],\n",
    "           [dvdx,dvdy]])"
   ]
  },
  {
   "cell_type": "code",
   "execution_count": 37,
   "id": "2fc0dd54-5d6a-4eb5-bc95-c59b96da449f",
   "metadata": {},
   "outputs": [],
   "source": [
    "#defino la matriz AAprima\n",
    "AAP=sp.Matrix([[ua],\n",
    "               [va]])"
   ]
  },
  {
   "cell_type": "code",
   "execution_count": 38,
   "id": "8be69b18-0a3c-45d3-ad27-21fc40988b50",
   "metadata": {},
   "outputs": [],
   "source": [
    "#defino la matriz AC\n",
    "AC=sp.Matrix([[deltax],\n",
    "             [deltay]])"
   ]
  },
  {
   "cell_type": "code",
   "execution_count": 41,
   "id": "16a469aa-93c3-4bbc-a397-7d9a33902030",
   "metadata": {},
   "outputs": [],
   "source": [
    "#defino la matriz CCP\n",
    "CCP=sp.Matrix([[uc],\n",
    "              [vc]])"
   ]
  },
  {
   "cell_type": "code",
   "execution_count": 39,
   "id": "602a528b-619e-4239-b244-c3bedca6a188",
   "metadata": {},
   "outputs": [],
   "source": [
    "# la teoria o como truco matematico tengo que H=((H+H.T)/2)+(H-H.T)/2 \n",
    "epsilon=(H+H.T)/2\n",
    "omega=(H-H.T)/2"
   ]
  },
  {
   "cell_type": "code",
   "execution_count": 44,
   "id": "69fd2383-f4fc-40b2-84e7-29d65782c695",
   "metadata": {},
   "outputs": [],
   "source": [
    "#opero y guardo en la variable s\n",
    "s=AAP+(epsilon*AC)+(omega*AC)-CCP"
   ]
  },
  {
   "cell_type": "code",
   "execution_count": 47,
   "id": "9f404b16-7985-477a-989a-6b56a0589fcb",
   "metadata": {},
   "outputs": [],
   "source": [
    "#saco las soluciones requeridas de del sistema de ecuaciones antes operado\n",
    "solucion=(sp.solve([s],(CCP)))"
   ]
  },
  {
   "cell_type": "code",
   "execution_count": 49,
   "id": "0457441b-78b3-46c7-ab19-d58a4aa842cb",
   "metadata": {},
   "outputs": [
    {
     "name": "stdout",
     "output_type": "stream",
     "text": [
      "{u(c): du/dx*Δx + du/dy*Δy + v(A), v(c): dv/dx*Δx + dv/dy*Δy + u(A)}\n"
     ]
    }
   ],
   "source": [
    "print(sp.simplify(solucion))"
   ]
  },
  {
   "cell_type": "code",
   "execution_count": null,
   "id": "647887e6-f748-416c-893e-0646504a11b1",
   "metadata": {},
   "outputs": [],
   "source": []
  }
 ],
 "metadata": {
  "kernelspec": {
   "display_name": "Python 3 (ipykernel)",
   "language": "python",
   "name": "python3"
  },
  "language_info": {
   "codemirror_mode": {
    "name": "ipython",
    "version": 3
   },
   "file_extension": ".py",
   "mimetype": "text/x-python",
   "name": "python",
   "nbconvert_exporter": "python",
   "pygments_lexer": "ipython3",
   "version": "3.12.4"
  }
 },
 "nbformat": 4,
 "nbformat_minor": 5
}
