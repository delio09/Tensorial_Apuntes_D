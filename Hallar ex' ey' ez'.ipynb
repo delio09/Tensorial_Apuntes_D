{
 "cells": [
  {
   "cell_type": "code",
   "execution_count": 1,
   "id": "ccad37dc-9fad-45cb-8184-6af744fd1496",
   "metadata": {},
   "outputs": [],
   "source": [
    "#Importo las librerias \n",
    "from sympy import sin, cos, init_printing, latex, symbols, Matrix, trigsimp, expand, linear_eq_to_matrix, expand_trig, simplify\n",
    "\n",
    "# Para imprimir bonito\n",
    "init_printing()  #\n",
    "from IPython.display import Math   #importo la libreria math para los simbolos               \n",
    "def imprimir (texto1, variable, texto2=\"\"):  #defino la funcion con los parametros a utilizar \n",
    "    return Math(texto1 +  rf'{latex(variable)}' + texto2)  #retorna llamada a libreria "
   ]
  },
  {
   "cell_type": "code",
   "execution_count": 5,
   "id": "0386611f-c87c-433b-a58a-aafcb7cdcf1b",
   "metadata": {},
   "outputs": [],
   "source": [
    "ex, ey, ez, exy, exz, eyz = symbols(\"varepsilon_x, varepsilon_y, varepsilon_z, varepsilon_xy, varepsilon_xz, varepsilon_yz\")\n",
    "alfa2, beta2, gama2, en, t =symbols(\" alpha_2, beta_2, gamma_2, varepsilon_n, theta\")\n",
    "alfa1, beta1, gama1, =symbols(\" alpha_1, beta_1, gamma_1\")\n",
    "alfa3, beta3, gama3 =symbols(\" alpha_3, beta_3, gamma_3\")"
   ]
  },
  {
   "cell_type": "code",
   "execution_count": 7,
   "id": "f2781cfa-d5b3-4995-b98e-eeda959483a0",
   "metadata": {},
   "outputs": [],
   "source": [
    "#matrix de transformacion T para 2 dimensiones \n",
    "T = Matrix([[alfa1,  alfa2,   alfa3],\n",
    "            [beta1,  beta2,   beta3],\n",
    "            [gama1,  gama2,   gama3]])"
   ]
  },
  {
   "cell_type": "code",
   "execution_count": 8,
   "id": "a4b7f405-2700-457b-ae55-40c036840d88",
   "metadata": {},
   "outputs": [],
   "source": [
    "#Matrix de  de deformaciones en los ejes (x,y)\n",
    "epsilon = Matrix([[ ex,  exy,  exz],\n",
    "                  [exy,  ey,   eyz],\n",
    "                  [exz,  eyz,  ez]])"
   ]
  },
  {
   "cell_type": "code",
   "execution_count": 18,
   "id": "33025108-a202-432e-8631-6667252b3725",
   "metadata": {},
   "outputs": [
    {
     "data": {
      "text/latex": [
       "$\\displaystyle xd=\\left[\\begin{matrix}\\alpha_{1} \\left(\\alpha_{1} \\varepsilon_{x} + \\beta_{1} \\varepsilon_{xy} + \\gamma_{1} \\varepsilon_{xz}\\right) + \\beta_{1} \\left(\\alpha_{1} \\varepsilon_{xy} + \\beta_{1} \\varepsilon_{y} + \\gamma_{1} \\varepsilon_{yz}\\right) + \\gamma_{1} \\left(\\alpha_{1} \\varepsilon_{xz} + \\beta_{1} \\varepsilon_{yz} + \\gamma_{1} \\varepsilon_{z}\\right) & \\alpha_{2} \\left(\\alpha_{1} \\varepsilon_{x} + \\beta_{1} \\varepsilon_{xy} + \\gamma_{1} \\varepsilon_{xz}\\right) + \\beta_{2} \\left(\\alpha_{1} \\varepsilon_{xy} + \\beta_{1} \\varepsilon_{y} + \\gamma_{1} \\varepsilon_{yz}\\right) + \\gamma_{2} \\left(\\alpha_{1} \\varepsilon_{xz} + \\beta_{1} \\varepsilon_{yz} + \\gamma_{1} \\varepsilon_{z}\\right) & \\alpha_{3} \\left(\\alpha_{1} \\varepsilon_{x} + \\beta_{1} \\varepsilon_{xy} + \\gamma_{1} \\varepsilon_{xz}\\right) + \\beta_{3} \\left(\\alpha_{1} \\varepsilon_{xy} + \\beta_{1} \\varepsilon_{y} + \\gamma_{1} \\varepsilon_{yz}\\right) + \\gamma_{3} \\left(\\alpha_{1} \\varepsilon_{xz} + \\beta_{1} \\varepsilon_{yz} + \\gamma_{1} \\varepsilon_{z}\\right)\\\\\\alpha_{1} \\left(\\alpha_{2} \\varepsilon_{x} + \\beta_{2} \\varepsilon_{xy} + \\gamma_{2} \\varepsilon_{xz}\\right) + \\beta_{1} \\left(\\alpha_{2} \\varepsilon_{xy} + \\beta_{2} \\varepsilon_{y} + \\gamma_{2} \\varepsilon_{yz}\\right) + \\gamma_{1} \\left(\\alpha_{2} \\varepsilon_{xz} + \\beta_{2} \\varepsilon_{yz} + \\gamma_{2} \\varepsilon_{z}\\right) & \\alpha_{2} \\left(\\alpha_{2} \\varepsilon_{x} + \\beta_{2} \\varepsilon_{xy} + \\gamma_{2} \\varepsilon_{xz}\\right) + \\beta_{2} \\left(\\alpha_{2} \\varepsilon_{xy} + \\beta_{2} \\varepsilon_{y} + \\gamma_{2} \\varepsilon_{yz}\\right) + \\gamma_{2} \\left(\\alpha_{2} \\varepsilon_{xz} + \\beta_{2} \\varepsilon_{yz} + \\gamma_{2} \\varepsilon_{z}\\right) & \\alpha_{3} \\left(\\alpha_{2} \\varepsilon_{x} + \\beta_{2} \\varepsilon_{xy} + \\gamma_{2} \\varepsilon_{xz}\\right) + \\beta_{3} \\left(\\alpha_{2} \\varepsilon_{xy} + \\beta_{2} \\varepsilon_{y} + \\gamma_{2} \\varepsilon_{yz}\\right) + \\gamma_{3} \\left(\\alpha_{2} \\varepsilon_{xz} + \\beta_{2} \\varepsilon_{yz} + \\gamma_{2} \\varepsilon_{z}\\right)\\\\\\alpha_{1} \\left(\\alpha_{3} \\varepsilon_{x} + \\beta_{3} \\varepsilon_{xy} + \\gamma_{3} \\varepsilon_{xz}\\right) + \\beta_{1} \\left(\\alpha_{3} \\varepsilon_{xy} + \\beta_{3} \\varepsilon_{y} + \\gamma_{3} \\varepsilon_{yz}\\right) + \\gamma_{1} \\left(\\alpha_{3} \\varepsilon_{xz} + \\beta_{3} \\varepsilon_{yz} + \\gamma_{3} \\varepsilon_{z}\\right) & \\alpha_{2} \\left(\\alpha_{3} \\varepsilon_{x} + \\beta_{3} \\varepsilon_{xy} + \\gamma_{3} \\varepsilon_{xz}\\right) + \\beta_{2} \\left(\\alpha_{3} \\varepsilon_{xy} + \\beta_{3} \\varepsilon_{y} + \\gamma_{3} \\varepsilon_{yz}\\right) + \\gamma_{2} \\left(\\alpha_{3} \\varepsilon_{xz} + \\beta_{3} \\varepsilon_{yz} + \\gamma_{3} \\varepsilon_{z}\\right) & \\alpha_{3} \\left(\\alpha_{3} \\varepsilon_{x} + \\beta_{3} \\varepsilon_{xy} + \\gamma_{3} \\varepsilon_{xz}\\right) + \\beta_{3} \\left(\\alpha_{3} \\varepsilon_{xy} + \\beta_{3} \\varepsilon_{y} + \\gamma_{3} \\varepsilon_{yz}\\right) + \\gamma_{3} \\left(\\alpha_{3} \\varepsilon_{xz} + \\beta_{3} \\varepsilon_{yz} + \\gamma_{3} \\varepsilon_{z}\\right)\\end{matrix}\\right]$"
      ],
      "text/plain": [
       "<IPython.core.display.Math object>"
      ]
     },
     "execution_count": 18,
     "metadata": {},
     "output_type": "execute_result"
    }
   ],
   "source": [
    "#cambio de sistema cordenado lasdeformaciones\n",
    "defP = trigsimp(T.T*epsilon*T)\n",
    "imprimir(r\"xd=\",defP)"
   ]
  },
  {
   "cell_type": "code",
   "execution_count": 10,
   "id": "b99237d2-e7a7-403b-bf56-3e911354f908",
   "metadata": {},
   "outputs": [],
   "source": [
    "#despejo las incognitas y las  extraeigo (exp, eyp, expyp)\n",
    "exp   = expand(defP[0,0])\n",
    "eyp   = expand(defP[1,1])\n",
    "expyp = expand(defP[0,1])"
   ]
  },
  {
   "cell_type": "code",
   "execution_count": 11,
   "id": "2c91d4fb-8445-433b-a329-9d1a3cd24eb0",
   "metadata": {},
   "outputs": [],
   "source": [
    "#imprimo las variables extraidas y despejadas"
   ]
  },
  {
   "cell_type": "code",
   "execution_count": 14,
   "id": "f648bd2f-1b96-48bf-a73d-0421830b17f5",
   "metadata": {},
   "outputs": [
    {
     "data": {
      "text/latex": [
       "$\\displaystyle \\varepsilon_{x'}(\\theta) = \\alpha_{1}^{2} \\varepsilon_{x} + 2 \\alpha_{1} \\beta_{1} \\varepsilon_{xy} + 2 \\alpha_{1} \\gamma_{1} \\varepsilon_{xz} + \\beta_{1}^{2} \\varepsilon_{y} + 2 \\beta_{1} \\gamma_{1} \\varepsilon_{yz} + \\gamma_{1}^{2} \\varepsilon_{z}$"
      ],
      "text/plain": [
       "<IPython.core.display.Math object>"
      ]
     },
     "execution_count": 14,
     "metadata": {},
     "output_type": "execute_result"
    }
   ],
   "source": [
    "imprimir(r\"\\varepsilon_{x'}(\\theta) = \", exp)"
   ]
  },
  {
   "cell_type": "code",
   "execution_count": 15,
   "id": "ea4f6296-abf9-4a41-8041-9db6de692d0d",
   "metadata": {},
   "outputs": [
    {
     "data": {
      "text/latex": [
       "$\\displaystyle \\varepsilon_{x'y'}(\\theta) = \\alpha_{1} \\alpha_{2} \\varepsilon_{x} + \\alpha_{1} \\beta_{2} \\varepsilon_{xy} + \\alpha_{1} \\gamma_{2} \\varepsilon_{xz} + \\alpha_{2} \\beta_{1} \\varepsilon_{xy} + \\alpha_{2} \\gamma_{1} \\varepsilon_{xz} + \\beta_{1} \\beta_{2} \\varepsilon_{y} + \\beta_{1} \\gamma_{2} \\varepsilon_{yz} + \\beta_{2} \\gamma_{1} \\varepsilon_{yz} + \\gamma_{1} \\gamma_{2} \\varepsilon_{z}$"
      ],
      "text/plain": [
       "<IPython.core.display.Math object>"
      ]
     },
     "execution_count": 15,
     "metadata": {},
     "output_type": "execute_result"
    }
   ],
   "source": [
    "imprimir(r\"\\varepsilon_{x'y'}(\\theta) = \", expyp)"
   ]
  },
  {
   "cell_type": "code",
   "execution_count": 19,
   "id": "7b16160d-8018-453b-97ac-ec460ecaafef",
   "metadata": {},
   "outputs": [
    {
     "data": {
      "text/latex": [
       "$\\displaystyle \\varepsilon_{x'y'}(\\theta) = \\alpha_{1} \\alpha_{2} \\varepsilon_{x} + \\alpha_{1} \\beta_{2} \\varepsilon_{xy} + \\alpha_{1} \\gamma_{2} \\varepsilon_{xz} + \\alpha_{2} \\beta_{1} \\varepsilon_{xy} + \\alpha_{2} \\gamma_{1} \\varepsilon_{xz} + \\beta_{1} \\beta_{2} \\varepsilon_{y} + \\beta_{1} \\gamma_{2} \\varepsilon_{yz} + \\beta_{2} \\gamma_{1} \\varepsilon_{yz} + \\gamma_{1} \\gamma_{2} \\varepsilon_{z}$"
      ],
      "text/plain": [
       "<IPython.core.display.Math object>"
      ]
     },
     "execution_count": 19,
     "metadata": {},
     "output_type": "execute_result"
    }
   ],
   "source": [
    "expyp2=simplify(expyp)\n",
    "imprimir(r\"\\varepsilon_{x'y'}(\\theta) = \", expyp2)"
   ]
  },
  {
   "cell_type": "code",
   "execution_count": null,
   "id": "644f3c4e-54b1-4c0a-b090-a15ccac3c642",
   "metadata": {},
   "outputs": [],
   "source": []
  }
 ],
 "metadata": {
  "kernelspec": {
   "display_name": "Python 3 (ipykernel)",
   "language": "python",
   "name": "python3"
  },
  "language_info": {
   "codemirror_mode": {
    "name": "ipython",
    "version": 3
   },
   "file_extension": ".py",
   "mimetype": "text/x-python",
   "name": "python",
   "nbconvert_exporter": "python",
   "pygments_lexer": "ipython3",
   "version": "3.12.4"
  }
 },
 "nbformat": 4,
 "nbformat_minor": 5
}
